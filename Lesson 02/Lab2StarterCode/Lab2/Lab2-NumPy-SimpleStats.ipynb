{
 "cells": [
  {
   "cell_type": "markdown",
   "metadata": {},
   "source": [
    "# Lab 2: Intro to NumPy and Stock Statistics"
   ]
  },
  {
   "cell_type": "markdown",
   "metadata": {},
   "source": [
    "### Author: Morgan Gladden"
   ]
  },
  {
   "cell_type": "markdown",
   "metadata": {},
   "source": [
    "## Part A: Intro to NumPy"
   ]
  },
  {
   "cell_type": "markdown",
   "metadata": {},
   "source": [
    "### Step A"
   ]
  },
  {
   "cell_type": "code",
   "execution_count": 1,
   "metadata": {},
   "outputs": [],
   "source": [
    "import numpy as np"
   ]
  },
  {
   "cell_type": "code",
   "execution_count": 5,
   "metadata": {},
   "outputs": [
    {
     "data": {
      "text/plain": [
       "array([[0, 0, 0, 0],\n",
       "       [0, 0, 0, 0],\n",
       "       [0, 0, 0, 0]])"
      ]
     },
     "execution_count": 5,
     "metadata": {},
     "output_type": "execute_result"
    }
   ],
   "source": [
    "# iii.\n",
    "A1 = np.zeros((3, 4), dtype=int)\n",
    "A1"
   ]
  },
  {
   "cell_type": "code",
   "execution_count": 6,
   "metadata": {},
   "outputs": [
    {
     "name": "stdout",
     "output_type": "stream",
     "text": [
      "2\n",
      "(3, 4)\n",
      "12\n",
      "int32\n"
     ]
    }
   ],
   "source": [
    "# iv.\n",
    "print(np.ndim(A1))\n",
    "print(np.shape(A1))\n",
    "print(np.size(A1))\n",
    "print(A1.dtype)"
   ]
  },
  {
   "cell_type": "code",
   "execution_count": 7,
   "metadata": {},
   "outputs": [
    {
     "data": {
      "text/plain": [
       "array([[5, 5, 5, 5],\n",
       "       [5, 5, 5, 5],\n",
       "       [5, 5, 5, 5]])"
      ]
     },
     "execution_count": 7,
     "metadata": {},
     "output_type": "execute_result"
    }
   ],
   "source": [
    "# v.\n",
    "A2 = np.add(A1, 5)\n",
    "A2"
   ]
  },
  {
   "cell_type": "code",
   "execution_count": 9,
   "metadata": {},
   "outputs": [
    {
     "data": {
      "text/plain": [
       "array([[5, 5, 5, 3],\n",
       "       [5, 5, 1, 5],\n",
       "       [5, 2, 5, 5]])"
      ]
     },
     "execution_count": 9,
     "metadata": {},
     "output_type": "execute_result"
    }
   ],
   "source": [
    "# vi.\n",
    "A2[2, 1] = 2\n",
    "A2[1, 2] = 1\n",
    "A2[0, 3] = 3\n",
    "A2"
   ]
  },
  {
   "cell_type": "code",
   "execution_count": 10,
   "metadata": {},
   "outputs": [
    {
     "data": {
      "text/plain": [
       "array([[5, 5, 2, 5],\n",
       "       [5, 1, 5, 5],\n",
       "       [3, 5, 5, 5]])"
      ]
     },
     "execution_count": 10,
     "metadata": {},
     "output_type": "execute_result"
    }
   ],
   "source": [
    "# vii.\n",
    "A2[::-1, ::-1]"
   ]
  },
  {
   "cell_type": "markdown",
   "metadata": {},
   "source": [
    "### Step B"
   ]
  },
  {
   "cell_type": "code",
   "execution_count": 12,
   "metadata": {},
   "outputs": [
    {
     "data": {
      "text/plain": [
       "array([1, 2, 3, 4, 5, 6, 7, 8, 9])"
      ]
     },
     "execution_count": 12,
     "metadata": {},
     "output_type": "execute_result"
    }
   ],
   "source": [
    "# ii.\n",
    "B1 = np.arange(1, 10)\n",
    "B1"
   ]
  },
  {
   "cell_type": "code",
   "execution_count": 16,
   "metadata": {},
   "outputs": [
    {
     "data": {
      "text/plain": [
       "array([1, 2, 3])"
      ]
     },
     "execution_count": 16,
     "metadata": {},
     "output_type": "execute_result"
    }
   ],
   "source": [
    "# iii.\n",
    "B2, B3, B4 = np.hsplit(B1, [3, 6])\n",
    "B2"
   ]
  },
  {
   "cell_type": "code",
   "execution_count": 14,
   "metadata": {},
   "outputs": [
    {
     "data": {
      "text/plain": [
       "array([4, 5, 6])"
      ]
     },
     "execution_count": 14,
     "metadata": {},
     "output_type": "execute_result"
    }
   ],
   "source": [
    "B3"
   ]
  },
  {
   "cell_type": "code",
   "execution_count": 17,
   "metadata": {},
   "outputs": [
    {
     "data": {
      "text/plain": [
       "array([7, 8, 9])"
      ]
     },
     "execution_count": 17,
     "metadata": {},
     "output_type": "execute_result"
    }
   ],
   "source": [
    "B4"
   ]
  },
  {
   "cell_type": "code",
   "execution_count": 18,
   "metadata": {},
   "outputs": [
    {
     "data": {
      "text/plain": [
       "array([38, 43, 48])"
      ]
     },
     "execution_count": 18,
     "metadata": {},
     "output_type": "execute_result"
    }
   ],
   "source": [
    "# iv.\n",
    "B5 = 4 * B4 + 3 * B3 - 2 * B2\n",
    "B5"
   ]
  },
  {
   "cell_type": "code",
   "execution_count": 19,
   "metadata": {},
   "outputs": [
    {
     "name": "stdout",
     "output_type": "stream",
     "text": [
      "48\n",
      "38\n",
      "129\n"
     ]
    }
   ],
   "source": [
    "# v.\n",
    "print(np.max(B5))\n",
    "print(np.min(B5))\n",
    "print(np.sum(B5))"
   ]
  },
  {
   "cell_type": "markdown",
   "metadata": {},
   "source": [
    "### Step C"
   ]
  },
  {
   "cell_type": "code",
   "execution_count": 20,
   "metadata": {},
   "outputs": [
    {
     "data": {
      "text/plain": [
       "array([ 1,  3,  5,  7,  9, 11, 13, 15, 17, 19])"
      ]
     },
     "execution_count": 20,
     "metadata": {},
     "output_type": "execute_result"
    }
   ],
   "source": [
    "# ii.\n",
    "C1 = np.arange(1, 20, 2)\n",
    "C1"
   ]
  },
  {
   "cell_type": "code",
   "execution_count": 25,
   "metadata": {},
   "outputs": [
    {
     "data": {
      "text/plain": [
       "array([[ 1,  3],\n",
       "       [ 5,  7],\n",
       "       [ 9, 11],\n",
       "       [13, 15],\n",
       "       [17, 19]])"
      ]
     },
     "execution_count": 25,
     "metadata": {},
     "output_type": "execute_result"
    }
   ],
   "source": [
    "# iii.\n",
    "C2 = np.reshape(C1, (5, 2))\n",
    "C2"
   ]
  },
  {
   "cell_type": "code",
   "execution_count": 30,
   "metadata": {},
   "outputs": [
    {
     "data": {
      "text/plain": [
       "array([[ 4],\n",
       "       [12],\n",
       "       [20],\n",
       "       [28],\n",
       "       [36]])"
      ]
     },
     "execution_count": 30,
     "metadata": {},
     "output_type": "execute_result"
    }
   ],
   "source": [
    "# iv.\n",
    "C3 = np.sum(C2, axis=1).reshape(5, 1)\n",
    "C3"
   ]
  },
  {
   "cell_type": "code",
   "execution_count": 32,
   "metadata": {},
   "outputs": [
    {
     "data": {
      "text/plain": [
       "array([[ 1,  3,  4],\n",
       "       [ 5,  7, 12],\n",
       "       [ 9, 11, 20],\n",
       "       [13, 15, 28],\n",
       "       [17, 19, 36]])"
      ]
     },
     "execution_count": 32,
     "metadata": {},
     "output_type": "execute_result"
    }
   ],
   "source": [
    "# v.\n",
    "C4 = np.concatenate([C2, C3], axis=1)\n",
    "C4"
   ]
  },
  {
   "cell_type": "code",
   "execution_count": 33,
   "metadata": {},
   "outputs": [
    {
     "name": "stdout",
     "output_type": "stream",
     "text": [
      "2\n",
      "(5, 3)\n",
      "15\n",
      "int32\n"
     ]
    }
   ],
   "source": [
    "# vi.\n",
    "print(np.ndim(C4))\n",
    "print(np.shape(C4))\n",
    "print(np.size(C4))\n",
    "print(C4.dtype)"
   ]
  },
  {
   "cell_type": "markdown",
   "metadata": {},
   "source": [
    "### Step D"
   ]
  },
  {
   "cell_type": "code",
   "execution_count": 35,
   "metadata": {},
   "outputs": [
    {
     "data": {
      "text/plain": [
       "array([[0.5488135 , 0.71518937, 0.60276338],\n",
       "       [0.54488318, 0.4236548 , 0.64589411],\n",
       "       [0.43758721, 0.891773  , 0.96366276],\n",
       "       [0.38344152, 0.79172504, 0.52889492],\n",
       "       [0.56804456, 0.92559664, 0.07103606]])"
      ]
     },
     "execution_count": 35,
     "metadata": {},
     "output_type": "execute_result"
    }
   ],
   "source": [
    "# ii.\n",
    "np.random.seed(0)\n",
    "\n",
    "# iii.\n",
    "D = np.random.random((5, 3))\n",
    "D"
   ]
  },
  {
   "cell_type": "code",
   "execution_count": 36,
   "metadata": {},
   "outputs": [
    {
     "data": {
      "text/plain": [
       "array([0.496554  , 0.74958777, 0.56245025])"
      ]
     },
     "execution_count": 36,
     "metadata": {},
     "output_type": "execute_result"
    }
   ],
   "source": [
    "# iv.\n",
    "DM = np.mean(D, axis=0)\n",
    "DM"
   ]
  },
  {
   "cell_type": "code",
   "execution_count": 37,
   "metadata": {},
   "outputs": [
    {
     "data": {
      "text/plain": [
       "array([[ 0.05225951, -0.0343984 ,  0.04031313],\n",
       "       [ 0.04832919, -0.32593297,  0.08344387],\n",
       "       [-0.05896678,  0.14218523,  0.40121251],\n",
       "       [-0.11311248,  0.04213727, -0.03355533],\n",
       "       [ 0.07149057,  0.17600887, -0.49141419]])"
      ]
     },
     "execution_count": 37,
     "metadata": {},
     "output_type": "execute_result"
    }
   ],
   "source": [
    "# v.\n",
    "DC = np.subtract(D, DM)\n",
    "DC"
   ]
  },
  {
   "cell_type": "code",
   "execution_count": 38,
   "metadata": {},
   "outputs": [
    {
     "data": {
      "text/plain": [
       "array([3.33066907e-17, 4.44089210e-17, 0.00000000e+00])"
      ]
     },
     "execution_count": 38,
     "metadata": {},
     "output_type": "execute_result"
    }
   ],
   "source": [
    "DV = np.mean(DC, axis=0)\n",
    "DV"
   ]
  },
  {
   "cell_type": "markdown",
   "metadata": {},
   "source": [
    "### Step E"
   ]
  },
  {
   "cell_type": "code",
   "execution_count": 43,
   "metadata": {},
   "outputs": [
    {
     "data": {
      "text/plain": [
       "array([[5, 8, 1, 3, 3],\n",
       "       [2, 2, 4, 7, 6],\n",
       "       [4, 7, 5, 3, 6]])"
      ]
     },
     "execution_count": 43,
     "metadata": {},
     "output_type": "execute_result"
    }
   ],
   "source": [
    "# ii.\n",
    "np.random.seed(33)\n",
    "\n",
    "# iii.\n",
    "E = np.random.randint(1, 9, size=(3, 5))\n",
    "E"
   ]
  },
  {
   "cell_type": "code",
   "execution_count": 44,
   "metadata": {},
   "outputs": [
    {
     "data": {
      "text/plain": [
       "4.0"
      ]
     },
     "execution_count": 44,
     "metadata": {},
     "output_type": "execute_result"
    }
   ],
   "source": [
    "# iv.\n",
    "EM = np.median(E)\n",
    "EM"
   ]
  },
  {
   "cell_type": "code",
   "execution_count": 45,
   "metadata": {},
   "outputs": [
    {
     "data": {
      "text/plain": [
       "array([[False, False,  True,  True,  True],\n",
       "       [ True,  True, False, False, False],\n",
       "       [False, False, False,  True, False]])"
      ]
     },
     "execution_count": 45,
     "metadata": {},
     "output_type": "execute_result"
    }
   ],
   "source": [
    "# v.\n",
    "EML = (E < EM)\n",
    "EML"
   ]
  },
  {
   "cell_type": "code",
   "execution_count": 46,
   "metadata": {},
   "outputs": [
    {
     "data": {
      "text/plain": [
       "6"
      ]
     },
     "execution_count": 46,
     "metadata": {},
     "output_type": "execute_result"
    }
   ],
   "source": [
    "# vi.\n",
    "np.sum(EML)"
   ]
  },
  {
   "cell_type": "code",
   "execution_count": 47,
   "metadata": {},
   "outputs": [
    {
     "data": {
      "text/plain": [
       "array([[ True,  True, False, False, False],\n",
       "       [False, False, False,  True,  True],\n",
       "       [False,  True,  True, False,  True]])"
      ]
     },
     "execution_count": 47,
     "metadata": {},
     "output_type": "execute_result"
    }
   ],
   "source": [
    "# vii.\n",
    "EMG = (E > EM)\n",
    "EMG"
   ]
  },
  {
   "cell_type": "code",
   "execution_count": 48,
   "metadata": {},
   "outputs": [
    {
     "data": {
      "text/plain": [
       "7"
      ]
     },
     "execution_count": 48,
     "metadata": {},
     "output_type": "execute_result"
    }
   ],
   "source": [
    "# viii.\n",
    "np.sum(EMG)"
   ]
  },
  {
   "cell_type": "code",
   "execution_count": 49,
   "metadata": {},
   "outputs": [
    {
     "data": {
      "text/plain": [
       "array([[False, False, False, False, False],\n",
       "       [False, False,  True, False, False],\n",
       "       [ True, False, False, False, False]])"
      ]
     },
     "execution_count": 49,
     "metadata": {},
     "output_type": "execute_result"
    }
   ],
   "source": [
    "# ix.\n",
    "EME = (E == EM)\n",
    "EME"
   ]
  },
  {
   "cell_type": "code",
   "execution_count": 56,
   "metadata": {},
   "outputs": [
    {
     "data": {
      "text/plain": [
       "2"
      ]
     },
     "execution_count": 56,
     "metadata": {},
     "output_type": "execute_result"
    }
   ],
   "source": [
    "# x.\n",
    "np.sum(EME)"
   ]
  },
  {
   "cell_type": "code",
   "execution_count": 86,
   "metadata": {},
   "outputs": [
    {
     "data": {
      "text/plain": [
       "7"
      ]
     },
     "execution_count": 86,
     "metadata": {},
     "output_type": "execute_result"
    }
   ],
   "source": [
    "# xi.\n",
    "within_one = np.sum((E >= EM -1) & (E <= EM + 1))\n",
    "within_one"
   ]
  },
  {
   "cell_type": "code",
   "execution_count": 103,
   "metadata": {},
   "outputs": [
    {
     "data": {
      "text/plain": [
       "array([1, 2, 2, 3, 3, 3, 4, 4, 5, 5, 6, 6, 7, 7, 8])"
      ]
     },
     "execution_count": 103,
     "metadata": {},
     "output_type": "execute_result"
    }
   ],
   "source": [
    "# xii.\n",
    "ES = np.reshape(E, (15,))\n",
    "ES = np.sort(ES)\n",
    "ES"
   ]
  },
  {
   "cell_type": "code",
   "execution_count": 107,
   "metadata": {},
   "outputs": [
    {
     "data": {
      "text/plain": [
       "array([4, 3, 5])"
      ]
     },
     "execution_count": 107,
     "metadata": {},
     "output_type": "execute_result"
    }
   ],
   "source": [
    "# xiii.\n",
    "index = [6, 4, 8]\n",
    "ES[index]"
   ]
  },
  {
   "cell_type": "markdown",
   "metadata": {},
   "source": [
    "### Step F"
   ]
  },
  {
   "cell_type": "code",
   "execution_count": 110,
   "metadata": {},
   "outputs": [
    {
     "data": {
      "text/plain": [
       "array([ 1,  2,  3,  4,  5,  6,  7,  8,  9, 10, 11, 12, 13, 14, 15, 16, 17,\n",
       "       18, 19, 20, 21, 22, 23, 24, 25, 26, 27, 28, 29, 30, 31, 32, 33])"
      ]
     },
     "execution_count": 110,
     "metadata": {},
     "output_type": "execute_result"
    }
   ],
   "source": [
    "# ii.\n",
    "F1 = np.arange(1, 34)\n",
    "F1"
   ]
  },
  {
   "cell_type": "code",
   "execution_count": 112,
   "metadata": {},
   "outputs": [
    {
     "data": {
      "text/plain": [
       "array([[ 1,  2,  3],\n",
       "       [ 4,  5,  6],\n",
       "       [ 7,  8,  9],\n",
       "       [10, 11, 12],\n",
       "       [13, 14, 15],\n",
       "       [16, 17, 18],\n",
       "       [19, 20, 21],\n",
       "       [22, 23, 24],\n",
       "       [25, 26, 27],\n",
       "       [28, 29, 30],\n",
       "       [31, 32, 33]])"
      ]
     },
     "execution_count": 112,
     "metadata": {},
     "output_type": "execute_result"
    }
   ],
   "source": [
    "# iii.\n",
    "F2 = np.reshape(F1, (11,3))\n",
    "F2"
   ]
  },
  {
   "cell_type": "code",
   "execution_count": 113,
   "metadata": {},
   "outputs": [
    {
     "data": {
      "text/plain": [
       "array([[False, False,  True],\n",
       "       [False, False,  True],\n",
       "       [False, False,  True],\n",
       "       [False, False,  True],\n",
       "       [False, False,  True],\n",
       "       [False, False,  True],\n",
       "       [False, False,  True],\n",
       "       [False, False,  True],\n",
       "       [False, False,  True],\n",
       "       [False, False,  True],\n",
       "       [False, False,  True]])"
      ]
     },
     "execution_count": 113,
     "metadata": {},
     "output_type": "execute_result"
    }
   ],
   "source": [
    "# iv.\n",
    "F3 = (F2 % 3 == 0)\n",
    "F3"
   ]
  },
  {
   "cell_type": "code",
   "execution_count": 116,
   "metadata": {},
   "outputs": [
    {
     "data": {
      "text/plain": [
       "array([[0, 0, 3],\n",
       "       [0, 0, 3],\n",
       "       [0, 0, 3],\n",
       "       [0, 0, 3],\n",
       "       [0, 0, 3],\n",
       "       [0, 0, 3],\n",
       "       [0, 0, 3],\n",
       "       [0, 0, 3],\n",
       "       [0, 0, 3],\n",
       "       [0, 0, 3],\n",
       "       [0, 0, 3]])"
      ]
     },
     "execution_count": 116,
     "metadata": {},
     "output_type": "execute_result"
    }
   ],
   "source": [
    "# v.\n",
    "F4 = np.where(F3 == False, 0, 3)\n",
    "F4"
   ]
  },
  {
   "cell_type": "code",
   "execution_count": 120,
   "metadata": {},
   "outputs": [
    {
     "data": {
      "text/plain": [
       "array([[ 1,  4,  7, 10, 13, 16, 19, 22, 25, 28, 31],\n",
       "       [ 2,  5,  8, 11, 14, 17, 20, 23, 26, 29, 32],\n",
       "       [ 3,  6,  9, 12, 15, 18, 21, 24, 27, 30, 33]])"
      ]
     },
     "execution_count": 120,
     "metadata": {},
     "output_type": "execute_result"
    }
   ],
   "source": [
    "# vi.\n",
    "F5 = np.transpose(F2)\n",
    "F5"
   ]
  },
  {
   "cell_type": "markdown",
   "metadata": {},
   "source": [
    "## Part B: Stock Stats"
   ]
  },
  {
   "cell_type": "markdown",
   "metadata": {},
   "source": [
    "### Step A: Read the Dataset"
   ]
  },
  {
   "cell_type": "code",
   "execution_count": 123,
   "metadata": {},
   "outputs": [],
   "source": [
    "# Import the needed libraries\n",
    "import numpy as np\n",
    "import csv\n",
    "from math import sqrt"
   ]
  },
  {
   "cell_type": "code",
   "execution_count": 124,
   "metadata": {},
   "outputs": [],
   "source": [
    "# Read in the stock data \n",
    "def read_stock_info(filename):\n",
    "    \"\"\"\n",
    "    1. Use a try/except block and for loops to read the dataset \n",
    "       contained in a CSV file and place it in a nested list.  Open \n",
    "       the file with the 'with open as' statement, which does not \n",
    "       require that you you explicitly close the file. Use the \n",
    "       csv.reader function: See the Working With CSV and JSON Modules \n",
    "       pdf file. Each inner list holds the data from the line in the \n",
    "       file. Each line is like a record from a database table.\n",
    "       Each element of the list is a field from a database table.\n",
    "       Each line is has field names of\n",
    "       ['Date','Open','High','Low','Close','Volume','Name']\n",
    "    2. You need to strip all whitespace from the Date and Name fields\n",
    "       You need to convert the prices (Open,High,Low,Close) to floats: \n",
    "       and the Volume to an integer\n",
    "       Traverse each record of the outer list using a for loop\n",
    "       Convert each field as specified above\n",
    "    3. Return the converted nested list  \n",
    "     \"\"\"\n",
    "    try:\n",
    "        # Using 'with open as' keeps you from having \n",
    "        # to explicitly close the file object\n",
    "        with open (filename, 'r') as input_file:\n",
    "        \n",
    "            # See CSV JSON pdf file for more informsation\n",
    "            # about reading CSV files into a Python program.      \n",
    "            stock_list = csv.reader(input_file)\n",
    "            stocks_data = list(stock_list)\n",
    "            \n",
    "            # Traverse every row (rec) in the nested stock_data list\n",
    "            for rec in range(len(stocks_data)):\n",
    "                # Strip whitespace chars from the first 0) and last(6) fields\n",
    "                for field in [0,6]:\n",
    "                    stocks_data[rec][field] = stocks_data[rec][field].strip()\n",
    "                # Convert the stock prices to floats\n",
    "                for field in range (1, 5):\n",
    "                    stocks_data[rec][field] = float (stocks_data[rec][field])\n",
    "                # Convert the volume to integer   \n",
    "                stocks_data[rec][5] = int(stocks_data[rec][5]) \n",
    "    except IOError:\n",
    "        print(\"File Not Found Error.\")    \n",
    "    \n",
    "    return stocks_data"
   ]
  },
  {
   "cell_type": "code",
   "execution_count": 125,
   "metadata": {},
   "outputs": [
    {
     "name": "stdout",
     "output_type": "stream",
     "text": [
      "\n",
      "First 10 stock records\n",
      "['1/3/2017', 115.8, 116.33, 114.76, 116.15, 28781865, 'AAPL']\n",
      "['1/4/2017', 115.85, 116.51, 115.75, 116.02, 21118116, 'AAPL']\n",
      "['1/5/2017', 115.92, 116.86, 115.81, 116.61, 22193587, 'AAPL']\n",
      "['1/6/2017', 116.78, 118.16, 116.47, 117.91, 31751900, 'AAPL']\n",
      "['1/9/2017', 117.95, 119.43, 117.94, 118.99, 33561948, 'AAPL']\n",
      "['1/10/2017', 118.77, 119.38, 118.3, 119.11, 24462051, 'AAPL']\n",
      "['1/11/2017', 118.74, 119.93, 118.6, 119.75, 27588593, 'AAPL']\n",
      "['1/12/2017', 118.9, 119.3, 118.21, 119.25, 27086220, 'AAPL']\n",
      "['1/13/2017', 119.11, 119.62, 118.81, 119.04, 26111948, 'AAPL']\n",
      "['1/17/2017', 118.34, 120.24, 118.22, 120.0, 34439843, 'AAPL']\n"
     ]
    }
   ],
   "source": [
    "# Read the stock data file\n",
    "stocks_data = read_stock_info('4stocks_1qtr.csv')\n",
    "# Print the first 100 stock records\n",
    "print(\"\\nFirst 10 stock records\")\n",
    "for rec in stocks_data[:10]:\n",
    "    print(rec)"
   ]
  },
  {
   "cell_type": "markdown",
   "metadata": {},
   "source": [
    "### Step B: Get the Month from Date"
   ]
  },
  {
   "cell_type": "code",
   "execution_count": 126,
   "metadata": {},
   "outputs": [],
   "source": [
    "# Get the month from the date string\n",
    "# Using the string index method and string slicing\n",
    "def get_month(date):\n",
    "    # Use the string index method to find the first '/' in the string\n",
    "    slash_index = date.index('/')\n",
    "    \n",
    "    # Use slicing to grab the characters before the first slash\n",
    "    month_str = date[0:slash_index]\n",
    "    \n",
    "    # Convert the string to integer\n",
    "    month = int(month_str)\n",
    "        \n",
    "    return month    "
   ]
  },
  {
   "cell_type": "code",
   "execution_count": 130,
   "metadata": {},
   "outputs": [
    {
     "data": {
      "text/plain": [
       "1"
      ]
     },
     "execution_count": 130,
     "metadata": {},
     "output_type": "execute_result"
    }
   ],
   "source": [
    "# Test the function\n",
    "date  = '1/3/2017'\n",
    "get_month(date)"
   ]
  },
  {
   "cell_type": "code",
   "execution_count": 140,
   "metadata": {},
   "outputs": [],
   "source": [
    "# Get the month from the date string\n",
    "# Using the string split method to produce a list\n",
    "# Convert the first element of the list into an integer\n",
    "def get_month(date):\n",
    "    # Use the string split method to split the date into a list of month, day, and year\n",
    "    string = date.split('/')\n",
    "    \n",
    "    # Isolate the month from the list\n",
    "    month_string = string[0]\n",
    "    \n",
    "    # Convert string to an integer\n",
    "    month = int(month_string)\n",
    "        \n",
    "    return month  "
   ]
  },
  {
   "cell_type": "code",
   "execution_count": 141,
   "metadata": {},
   "outputs": [],
   "source": [
    "# Test the function\n",
    "date  = '01/03/2017'\n",
    "month = get_month(date)"
   ]
  },
  {
   "cell_type": "markdown",
   "metadata": {},
   "source": [
    "### Step C: Calculate Coefficient of Variation"
   ]
  },
  {
   "cell_type": "code",
   "execution_count": 142,
   "metadata": {},
   "outputs": [],
   "source": [
    "# Calculate the coefficient of variation for the\n",
    "# given list of values using lists and for loops\n",
    "def calc_coeff_var(values):\n",
    "    \"\"\"\n",
    "    Calculates the standard deviation from the mean for a list of values\n",
    "    \"\"\"\n",
    "    mean = sum(values) / len(values)\n",
    "    \n",
    "    diffs = []\n",
    "    for x in values:\n",
    "        diffs.append(x - mean)\n",
    "        \n",
    "    squ_diffs = []\n",
    "    for d in diffs:\n",
    "        squ_diffs.append(d**2)\n",
    "\n",
    "    std_dev = sqrt(sum(squ_diffs) / len(values))\n",
    "    coeff_var = std_dev / mean\n",
    "    \n",
    "    return coeff_var"
   ]
  },
  {
   "cell_type": "code",
   "execution_count": 143,
   "metadata": {},
   "outputs": [
    {
     "data": {
      "text/plain": [
       "0.005252146568184989"
      ]
     },
     "execution_count": 143,
     "metadata": {},
     "output_type": "execute_result"
    }
   ],
   "source": [
    "# Test the function\n",
    "values = [115.8, 116.33, 114.76, 116.15]\n",
    "calc_coeff_var(values)"
   ]
  },
  {
   "cell_type": "code",
   "execution_count": 144,
   "metadata": {},
   "outputs": [],
   "source": [
    "# Calculate the coefficient of variation \n",
    "# for the given list of values using the given mean\n",
    "def calc_coeff_var_lc(values):\n",
    "    \"\"\"\n",
    "    Calculates the standard deviation from the mean for a list of values\n",
    "    \"\"\"\n",
    "    #1. mean = sum(values) / len(values)\n",
    "    #2. diffs = []\n",
    "    #   for x in values:\n",
    "    #       diffs.append(x - mean)\n",
    "    # becomes\n",
    "    #3. diffs = [x - (sum(values) / len(values)) for x in values]\n",
    "    \n",
    "    #4. squ_diffs = []\n",
    "    #   for d in diffs:\n",
    "    #       squ_diffs.append(d**2)\n",
    "    # becomes\n",
    "    #5. squ_diffs = [d**2 for d in diffs] \n",
    "    \n",
    "    #3. diffs = [x - (sum(values) / len(values)) for x in values]\n",
    "    #5. squ_diffs = [d**2 for d in diffs]\n",
    "    # becomes\n",
    "    #6. squ_diffs = [d**2 for d in [x - (sum(values) / len(values)) \n",
    "    #               for x in values]]\n",
    "    \n",
    "    #6. squ_diffs = [d**2 for d in [x - (sum(values) / len(values)) \n",
    "    #               for x in values]]\n",
    "    #7. std_dev = sqrt(sum(squ_diffs) / len(values))\n",
    "    # becomes\n",
    "    #8. std_dev = sqrt(sum([d ** 2 for d in [x - (sum(values) \n",
    "    #             / len(values)) for x in values]]) / len(values)) \n",
    "    \n",
    "    # Change sum function argument to a generator express\n",
    "    #9. std_dev = sqrt(sum(d ** 2 for d in [x - (sum(values) \n",
    "    #             / len(values)) for x in values]) / len(values))\n",
    "    #10.  coeff_var = std_dev / mean \n",
    "    # becomes\n",
    "    \n",
    "    coeff_var = sqrt(sum(d ** 2 for d in [x - sum(values) \n",
    "                      / len(values) for x in values]) \n",
    "                      / len(values)) / (sum(values) / len(values))\n",
    "    return coeff_var"
   ]
  },
  {
   "cell_type": "code",
   "execution_count": 145,
   "metadata": {},
   "outputs": [
    {
     "data": {
      "text/plain": [
       "0.005252146568184989"
      ]
     },
     "execution_count": 145,
     "metadata": {},
     "output_type": "execute_result"
    }
   ],
   "source": [
    "# Test the function\n",
    "values = [115.8, 116.33, 114.76, 116.15]\n",
    "calc_coeff_var_lc (values)"
   ]
  },
  {
   "cell_type": "code",
   "execution_count": 54,
   "metadata": {},
   "outputs": [],
   "source": [
    "# Calculate the coefficient of variation for the\n",
    "# given list of values using just NumPy constructs\n",
    "def calc_coeff_var_np(values):\n",
    "    \n",
    "    ## Add your code here ##\n",
    "    \n",
    "    return coeff_var"
   ]
  },
  {
   "cell_type": "code",
   "execution_count": null,
   "metadata": {},
   "outputs": [],
   "source": [
    "# Test the function\n",
    "values = [115.8, 116.33, 114.76, 116.15]\n",
    "calc_coeff_var_np(values)"
   ]
  },
  {
   "cell_type": "markdown",
   "metadata": {},
   "source": [
    "### Step D: Modify the Stocks Data Nested List"
   ]
  },
  {
   "cell_type": "raw",
   "metadata": {},
   "source": [
    "# rec: ['Date', Open, High, Low, Close, Volume, 'Name']\n",
    "# Replace the 'Date' Field with the 'Month' field\n",
    "# Add the 'CoeffVar' Field before the 'Volume' field\n",
    "# New rec: [Month, Open, High, Low, Close, \n",
    "#           CoeffVar, Volume, 'Name']\n",
    "def modify_stocks_data(stocks_data):    \n",
    "    for rec in stocks_data:\n",
    "        # Get month\n",
    "        month = get_month(rec[0])\n",
    "        \n",
    "        # Calculate coefficient of variation\n",
    "        values = rec[1:5]\n",
    "        coeff_var = calc_coeff_var_lc(values)\n",
    "        \n",
    "        # Overlay Date with Month\n",
    "        rec[0] = month\n",
    "                \n",
    "        # Insert CoeffVar\n",
    "        rec.insert(5, coeff_var)\n",
    "        \n",
    "    return stocks_data    "
   ]
  },
  {
   "cell_type": "raw",
   "metadata": {},
   "source": [
    "# Modify the stock_data nested list\n",
    "stocks_data = modify_stocks_data(stocks_data)\n",
    "\n",
    "# Print the first 10 stock records\n",
    "print(\"\\nFirst 10 stock records\")\n",
    "for rec in stocks_data[:10]:\n",
    "    print(rec)"
   ]
  },
  {
   "cell_type": "code",
   "execution_count": 56,
   "metadata": {},
   "outputs": [],
   "source": [
    "# rec: ['Date', Open, High, Low, Close, Volume, 'Name']\n",
    "# Replace the 'Date' Field with the 'Month' field\n",
    "# Add the 'CoeffVar' Field before the 'Volume' field\n",
    "# New rec: [Month, Open, High, Low, Close, \n",
    "#           CoeffVar, Volume, 'Name']\n",
    "def modify_stocks_data(stocks_data):    \n",
    "        \n",
    "    ## Add your code here ##\n",
    "        \n",
    "    return stocks_data      "
   ]
  },
  {
   "cell_type": "code",
   "execution_count": null,
   "metadata": {},
   "outputs": [],
   "source": [
    "# Modify the stock_data nested list\n",
    "stocks_data = modify_stocks_data(stocks_data)\n",
    "\n",
    "# Print the first 10 stock records\n",
    "print( \"\\nFirst 10 stock records\")\n",
    "for rec in stocks_data[:10]:\n",
    "    print(rec)"
   ]
  },
  {
   "cell_type": "markdown",
   "metadata": {},
   "source": [
    "### Step E: Create Sorted Stock List"
   ]
  },
  {
   "cell_type": "code",
   "execution_count": 58,
   "metadata": {},
   "outputs": [],
   "source": [
    "# Create a unique list of the stock names by extracting\n",
    "# the names from the last field in each record.\n",
    "# A list of all the values is created using a list comprehension.  \n",
    "# Next, the Numpy unique function is used to create \n",
    "# a smaller sorted list of unique names.\n",
    "def get_sorted_stock_list_np(stocks_data):\n",
    "   \n",
    "    stock_list = [rec[-1] for rec in stocks_data]\n",
    "    stock_list = list(np.unique(stock_list))\n",
    "    return stock_list"
   ]
  },
  {
   "cell_type": "code",
   "execution_count": null,
   "metadata": {},
   "outputs": [],
   "source": [
    "# Print the sorted stock names\n",
    "stock_list = get_sorted_stock_list_np(stocks_data)\n",
    "\n",
    "print(\"\\nSorted Stock List\\n\")\n",
    "print(stock_list) "
   ]
  },
  {
   "cell_type": "code",
   "execution_count": 60,
   "metadata": {},
   "outputs": [],
   "source": [
    "# Create a set of the stock names by reading each record \n",
    "# in the stocks_data nested list\n",
    "# Convert the set to a list and sort the list\n",
    "def get_sorted_stock_list_sc(stocks_data):\n",
    "    \n",
    "    ## Add your code here ##\n",
    "    \n",
    "    return stock_list"
   ]
  },
  {
   "cell_type": "code",
   "execution_count": null,
   "metadata": {},
   "outputs": [],
   "source": [
    "# Print the sorted stock names\n",
    "stock_list = get_sorted_stock_list_sc(stocks_data)\n",
    "\n",
    "print(\"\\nSorted Stock List\\n\")\n",
    "print(stock_list) "
   ]
  },
  {
   "cell_type": "markdown",
   "metadata": {},
   "source": [
    "### Step F: Extract Only One Stock from the Nested List"
   ]
  },
  {
   "cell_type": "code",
   "execution_count": 62,
   "metadata": {},
   "outputs": [],
   "source": [
    "# Rec: [Month, Open, High, Low, Close, \n",
    "#           CoeffVar, Volume, 'Name']\n",
    "# Extract from the stocks_data nested list only \n",
    "# those records pertaining to a particular stock\n",
    "# Use for loops and remove the stock Name from the record\n",
    "# New Rec: [Month, Open, High, Low, Close, CoeffVar, Volume]\n",
    "def extract_stock(stocks_data, stock):\n",
    "    \n",
    "    stock_data = []\n",
    "    \n",
    "    for rec in stocks_data:\n",
    "        if rec[-1] == stock:\n",
    "            stock_data.append(rec[:-1])\n",
    "    \n",
    "    return stock_data"
   ]
  },
  {
   "cell_type": "code",
   "execution_count": null,
   "metadata": {},
   "outputs": [],
   "source": [
    "# Extract the particular stock data\n",
    "stock = 'AAPL'\n",
    "print(\"Stock Data For\", stock)\n",
    "stock_data = extract_stock(stocks_data, stock)\n",
    "\n",
    "# Print ten records\n",
    "print(\"\\nFirst 10 stock records\")\n",
    "for rec in stock_data[:10]:\n",
    "    print(rec)"
   ]
  },
  {
   "cell_type": "code",
   "execution_count": 64,
   "metadata": {},
   "outputs": [],
   "source": [
    "# Rec: [Month, Open, High, Low, Close, \n",
    "#           CoeffVar, Volume, 'Name']\n",
    "# Extract from the stocks_data nested list only \n",
    "# those records pertaining to a particular stock\n",
    "# Use a list comprehension and remove the stock Name\n",
    "# from the record\n",
    "# New Rec: [Month, Open, High, Low, Close, CoeffVar, Volume]\n",
    "def extract_stock_lc (stocks_data, stock):\n",
    "       \n",
    "    ## Add your code here ##\n",
    "    \n",
    "    return stock_data"
   ]
  },
  {
   "cell_type": "code",
   "execution_count": null,
   "metadata": {},
   "outputs": [],
   "source": [
    "# Extract the particular stock data\n",
    "stock = 'AAPL'\n",
    "print(\"Stock Data For\", stock)\n",
    "stock_data = extract_stock_lc(stocks_data, stock)\n",
    "\n",
    "# Print ten records\n",
    "print(\"\\nFirst 10 stock records\")\n",
    "for rec in stock_data[:10]:\n",
    "    print(rec)                                                                                                                 "
   ]
  },
  {
   "cell_type": "markdown",
   "metadata": {},
   "source": [
    "### Step G: Extract Only One Month from the Stock Nested List"
   ]
  },
  {
   "cell_type": "code",
   "execution_count": 66,
   "metadata": {},
   "outputs": [],
   "source": [
    "# Extract from the stock_data nested list for the particular stock\n",
    "# only those records pertaining to a particular month, \n",
    "# using list comprehension\n",
    "# Rec: [Month, Open, High, Low, Close, CoeffVar, Volume]\n",
    "def extract_month_lc (stock_data, month): \n",
    "    \n",
    "    stock_mon_data = [rec for rec in stock_data if rec[0] == month]    \n",
    "    \n",
    "    return stock_mon_data"
   ]
  },
  {
   "cell_type": "code",
   "execution_count": null,
   "metadata": {},
   "outputs": [],
   "source": [
    "# Test the function\n",
    "# Extract the particular stock month data\n",
    "month = 1\n",
    "stock_mon_data = extract_month_lc(stock_data, month)\n",
    "\n",
    "# Print ten records\n",
    "print (\"\\nFirst 10 stock records\")\n",
    "for rec in stock_mon_data[:10]:\n",
    "    print(rec)"
   ]
  },
  {
   "cell_type": "code",
   "execution_count": 68,
   "metadata": {},
   "outputs": [],
   "source": [
    "# Extract from the stock_data nested list for the particular stock\n",
    "# only those records pertaining to a particular month, \n",
    "# using lists and for loops\n",
    "# Rec: [Month, Open, High, Low, Close, CoeffVar, Volume]\n",
    "def extract_month(stock_data, month):\n",
    "            \n",
    "    ## Add your code here ##\n",
    "    \n",
    "    return stock_mon_data"
   ]
  },
  {
   "cell_type": "code",
   "execution_count": null,
   "metadata": {},
   "outputs": [],
   "source": [
    "# Test the function\n",
    "# Extract the particular stock month data\n",
    "month = 1\n",
    "stock_mon_data = extract_month(stock_data, month)\n",
    "\n",
    "# Print ten records\n",
    "print(\"\\nFirst 10 stock records\")\n",
    "for rec in stock_mon_data[:10]:\n",
    "    print(rec)"
   ]
  },
  {
   "cell_type": "markdown",
   "metadata": {},
   "source": [
    "### Step H: Calculate the Stock Statistics and Place in Nested List"
   ]
  },
  {
   "cell_type": "code",
   "execution_count": 70,
   "metadata": {},
   "outputs": [],
   "source": [
    "# Rec: [Month, Open, High, Low, Close, CoeffVar, Volume]\n",
    "# Calculate the stock stats for each stock \n",
    "# and place them in a nested list:\n",
    "# ['Name', JanPerf, JanVol, FebPerf, FebVol, \n",
    "#          MarPerf, MarVol, QtrPerf, QtrVol]\n",
    "def calc_stock_stats(stocks_data):\n",
    "    stocks_stats = []\n",
    "    \n",
    "    # Get Sorted Stock List\n",
    "    stock_list = get_sorted_stock_list_np(stocks_data)\n",
    "    \n",
    "    # Traverse Stock List ['AAPL', 'GOOGL', IBM', 'ORCL'] to \n",
    "    # Extract All Stock Rows\n",
    "    for stock in stock_list:\n",
    "        \n",
    "        stock_stats = []\n",
    "        \n",
    "        # Build Stock_Stats inner list\n",
    "        stock_stats.append(stock)\n",
    "        \n",
    "        # Get All Rows Pertaining to a Certain Stock\n",
    "        stock_data = extract_stock(stocks_data, stock)\n",
    "        \n",
    "        # Convert the Nested List into a NumPy Array\n",
    "        qtr_array = np.array(stock_data)\n",
    "        \n",
    "        # Calculate Stock Volatility For Quarter\n",
    "        # Grab the CoeffVar column for the stock\n",
    "        # All rows and sixth column\n",
    "        cov_col = qtr_array[:, 5]\n",
    "        \n",
    "        # Find the average of the CoeffVar column\n",
    "        qtr_volatility = np.mean(cov_col) \n",
    "        \n",
    "        # Calculate the Quarter Performance For the Stock\n",
    "        # Get the index of the last row in CoeffVar column\n",
    "        last_row = cov_col.size - 1\n",
    "        \n",
    "        # Get the price of the stock at the start of the quarter\n",
    "        # First row and second column \n",
    "        open_qtr = qtr_array[0, 1]\n",
    "        \n",
    "        # Get the price of the stock at the end of the quarter\n",
    "        # Last row and fifth column \n",
    "        close_qtr = qtr_array[last_row, 4]\n",
    "        \n",
    "        # Calculate the stock performance for the quarter\n",
    "        qtr_perf = (close_qtr - open_qtr) / open_qtr\n",
    "            \n",
    "        # For Each Month in the Quarter\n",
    "        for month in range(1,4):\n",
    "            \n",
    "            # Get All Rows Pertaining to a Certain Stock and Month\n",
    "            stock_mon_data = extract_month_lc(stock_data, month)\n",
    "            \n",
    "            # Convert the Nested List into a NumPy Array\n",
    "            month_array = np.array(stock_mon_data)\n",
    "            \n",
    "            # Calculate Stock Volatility For Month\n",
    "            # Grab the CoeffVar column for the stock\n",
    "            # All rows and sixth column\n",
    "            cov_col = month_array[:, 5]\n",
    "            \n",
    "            # Find the average of the CoeffVar column\n",
    "            mon_volatility = np.mean(cov_col)     \n",
    "            \n",
    "            # Calculate the Month Performance For the Stock\n",
    "            # Get the index of the last row in CoeffVar column\n",
    "            last_row = cov_col.size - 1\n",
    "            \n",
    "            # Get the price of the stock at the start of the month\n",
    "            # First row and second column\n",
    "            open_mon = month_array[0, 1]\n",
    "            \n",
    "            # Get the price of the stock at the end of the month\n",
    "            # Last row and fifth column\n",
    "            close_mon = month_array[last_row, 4]\n",
    "            \n",
    "            # Calculate the stock performance for the month\n",
    "            mon_perf = (close_mon - open_mon) / open_mon\n",
    "            \n",
    "            # Build Stock_Stats month inner list\n",
    "            stock_stats.append(mon_perf)\n",
    "            stock_stats.append(mon_volatility)\n",
    "            \n",
    "        # Build Stock_Stats quarter inner list\n",
    "        stock_stats.append(qtr_perf)\n",
    "        stock_stats.append(qtr_volatility)\n",
    "        \n",
    "        # Build Stock_Stats nested list\n",
    "        stocks_stats.append(stock_stats)\n",
    "        \n",
    "    return stocks_stats        "
   ]
  },
  {
   "cell_type": "code",
   "execution_count": null,
   "metadata": {},
   "outputs": [],
   "source": [
    "# Run the function to produce the stock_stats nested list\n",
    "stock_stats = calc_stock_stats(stocks_data)\n",
    "\n",
    "print(\"\\nStock records\")\n",
    "for rec in stock_stats:\n",
    "    print(rec)\n",
    "    print()"
   ]
  },
  {
   "cell_type": "code",
   "execution_count": 72,
   "metadata": {},
   "outputs": [],
   "source": [
    "# Rec: [Month, Open, High, Low, Close, CoeffVar, Volume]\n",
    "# Calculate the stock stats for each stock \n",
    "# and place them in a nested list:\n",
    "# ['Name', JanPerf, JanVol, FebPerf, FebVol, \n",
    "#          MarPerf, MarVol, QtrPerf, QtrVol]\n",
    "def calc_stock_stats(stocks_data):\n",
    "    \n",
    "    ## Add your code here ##\n",
    "        \n",
    "    return stocks_stats        "
   ]
  },
  {
   "cell_type": "code",
   "execution_count": null,
   "metadata": {},
   "outputs": [],
   "source": [
    "# Run the function to produce the stock_stats nested list\n",
    "stock_stats = calc_stock_stats(stocks_data)\n",
    "\n",
    "print(\"\\nStock records\")\n",
    "for rec in stock_stats:\n",
    "    print(rec)\n",
    "    print()"
   ]
  },
  {
   "cell_type": "markdown",
   "metadata": {},
   "source": [
    "### Step I: Print the Stock Statistics"
   ]
  },
  {
   "cell_type": "code",
   "execution_count": 74,
   "metadata": {},
   "outputs": [],
   "source": [
    "# Print the stock stats for each stock \n",
    "# ['Name', JanPerf, JanVol, FebPerf, FebVol, \n",
    "#          MarPerf, MarVol, QtrPerf, QtrVol]\n",
    "def print_stock_stats(stock_stats):\n",
    "    for stock in stock_stats:\n",
    "        print(\"Statistics For\", stock[0])\n",
    "        print(\"Jan Perfomance\", '{:6.4f}'.format(stock[1]), \n",
    "              \"Jan Volatility\", '{:8.6f}'.format(stock[2]))\n",
    "        print(\"Feb Perfomance\", '{:6.4f}'.format(stock[3]), \n",
    "              \"Feb Volatility\", '{:8.6f}'.format(stock[4]))\n",
    "        print(\"Mar Perfomance\", '{:6.4f}'.format(stock[5]), \n",
    "              \"Mar Volatility\", '{:8.6f}'.format(stock[6]))\n",
    "        print(\"1st Qtr Perfomance\", '{:6.4f}'.format(stock[7]), \n",
    "              \"1st Qtr Volatility\", '{:8.6f}'.format(stock[8]))\n",
    "        print ()"
   ]
  },
  {
   "cell_type": "code",
   "execution_count": null,
   "metadata": {},
   "outputs": [],
   "source": [
    "# Print the Stock Statistics for comparison\n",
    "print_stock_stats (stock_stats)"
   ]
  },
  {
   "cell_type": "markdown",
   "metadata": {},
   "source": [
    "### Step J: Fill in Table With Stock Name"
   ]
  },
  {
   "cell_type": "raw",
   "metadata": {},
   "source": [
    "For the Month of January:\n",
    "Stock that performed the best: AAPL\n",
    "Stock that performed the worst: GOOGL\n",
    "Stock that was the most volatile: IBM\n",
    "Stock that was the least volatile: AAPL\n",
    "\n",
    "For the Month of February:\n",
    "Stock that performed the best:  \n",
    "Stock that performed the worst:  \n",
    "Stock that was the most volatile:  \n",
    "Stock that was the least volatile:  \n",
    "\n",
    "For the Month of March:\n",
    "Stock that performed the best:  \n",
    "Stock that performed the worst:  \n",
    "Stock that was the most volatile:  \n",
    "Stock that was the least volatile:  \n",
    "\n",
    "For the First Quarter:\n",
    "Stock that performed the best:  \n",
    "Stock that performed the worst:  \n",
    "Stock that was the most volatile:  \n",
    "Stock that was the least volatile:  "
   ]
  }
 ],
 "metadata": {
  "kernelspec": {
   "display_name": "Python 3",
   "language": "python",
   "name": "python3"
  },
  "language_info": {
   "codemirror_mode": {
    "name": "ipython",
    "version": 3
   },
   "file_extension": ".py",
   "mimetype": "text/x-python",
   "name": "python",
   "nbconvert_exporter": "python",
   "pygments_lexer": "ipython3",
   "version": "3.6.5"
  }
 },
 "nbformat": 4,
 "nbformat_minor": 2
}
